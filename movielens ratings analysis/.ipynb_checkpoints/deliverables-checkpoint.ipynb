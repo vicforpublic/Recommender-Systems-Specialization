{
 "cells": [
  {
   "cell_type": "code",
   "execution_count": 8,
   "metadata": {},
   "outputs": [
    {
     "data": {
      "text/html": [
       "<div>\n",
       "<style scoped>\n",
       "    .dataframe tbody tr th:only-of-type {\n",
       "        vertical-align: middle;\n",
       "    }\n",
       "\n",
       "    .dataframe tbody tr th {\n",
       "        vertical-align: top;\n",
       "    }\n",
       "\n",
       "    .dataframe thead th {\n",
       "        text-align: right;\n",
       "    }\n",
       "</style>\n",
       "<table border=\"1\" class=\"dataframe\">\n",
       "  <thead>\n",
       "    <tr style=\"text-align: right;\">\n",
       "      <th></th>\n",
       "      <th>User</th>\n",
       "      <th>Gender (1 =F, 0=M)</th>\n",
       "      <th>260: Star Wars: Episode IV - A New Hope (1977)</th>\n",
       "      <th>1210: Star Wars: Episode VI - Return of the Jedi (1983)</th>\n",
       "      <th>356: Forrest Gump (1994)</th>\n",
       "      <th>318: Shawshank Redemption, The (1994)</th>\n",
       "      <th>593: Silence of the Lambs, The (1991)</th>\n",
       "      <th>3578: Gladiator (2000)</th>\n",
       "      <th>1: Toy Story (1995)</th>\n",
       "      <th>2028: Saving Private Ryan (1998)</th>\n",
       "      <th>...</th>\n",
       "      <th>2396: Shakespeare in Love (1998)</th>\n",
       "      <th>2916: Total Recall (1990)</th>\n",
       "      <th>780: Independence Day (ID4) (1996)</th>\n",
       "      <th>541: Blade Runner (1982)</th>\n",
       "      <th>1265: Groundhog Day (1993)</th>\n",
       "      <th>2571: Matrix, The (1999)</th>\n",
       "      <th>527: Schindler's List (1993)</th>\n",
       "      <th>2762: Sixth Sense, The (1999)</th>\n",
       "      <th>1198: Raiders of the Lost Ark (1981)</th>\n",
       "      <th>34: Babe (1995)</th>\n",
       "    </tr>\n",
       "  </thead>\n",
       "  <tbody>\n",
       "    <tr>\n",
       "      <th>0</th>\n",
       "      <td>755</td>\n",
       "      <td>0</td>\n",
       "      <td>1.0</td>\n",
       "      <td>5.0</td>\n",
       "      <td>2.0</td>\n",
       "      <td>NaN</td>\n",
       "      <td>4.0</td>\n",
       "      <td>4.0</td>\n",
       "      <td>2.0</td>\n",
       "      <td>2.0</td>\n",
       "      <td>...</td>\n",
       "      <td>2.0</td>\n",
       "      <td>NaN</td>\n",
       "      <td>5.0</td>\n",
       "      <td>2.0</td>\n",
       "      <td>NaN</td>\n",
       "      <td>4.0</td>\n",
       "      <td>2.0</td>\n",
       "      <td>5.0</td>\n",
       "      <td>NaN</td>\n",
       "      <td>NaN</td>\n",
       "    </tr>\n",
       "    <tr>\n",
       "      <th>1</th>\n",
       "      <td>5277</td>\n",
       "      <td>0</td>\n",
       "      <td>5.0</td>\n",
       "      <td>3.0</td>\n",
       "      <td>NaN</td>\n",
       "      <td>2.0</td>\n",
       "      <td>4.0</td>\n",
       "      <td>2.0</td>\n",
       "      <td>1.0</td>\n",
       "      <td>NaN</td>\n",
       "      <td>...</td>\n",
       "      <td>3.0</td>\n",
       "      <td>2.0</td>\n",
       "      <td>2.0</td>\n",
       "      <td>NaN</td>\n",
       "      <td>2.0</td>\n",
       "      <td>NaN</td>\n",
       "      <td>5.0</td>\n",
       "      <td>1.0</td>\n",
       "      <td>3.0</td>\n",
       "      <td>NaN</td>\n",
       "    </tr>\n",
       "    <tr>\n",
       "      <th>2</th>\n",
       "      <td>1577</td>\n",
       "      <td>1</td>\n",
       "      <td>NaN</td>\n",
       "      <td>NaN</td>\n",
       "      <td>NaN</td>\n",
       "      <td>5.0</td>\n",
       "      <td>2.0</td>\n",
       "      <td>NaN</td>\n",
       "      <td>4.0</td>\n",
       "      <td>NaN</td>\n",
       "      <td>...</td>\n",
       "      <td>NaN</td>\n",
       "      <td>1.0</td>\n",
       "      <td>4.0</td>\n",
       "      <td>4.0</td>\n",
       "      <td>1.0</td>\n",
       "      <td>1.0</td>\n",
       "      <td>2.0</td>\n",
       "      <td>3.0</td>\n",
       "      <td>1.0</td>\n",
       "      <td>3.0</td>\n",
       "    </tr>\n",
       "    <tr>\n",
       "      <th>3</th>\n",
       "      <td>4388</td>\n",
       "      <td>0</td>\n",
       "      <td>NaN</td>\n",
       "      <td>3.0</td>\n",
       "      <td>NaN</td>\n",
       "      <td>NaN</td>\n",
       "      <td>NaN</td>\n",
       "      <td>1.0</td>\n",
       "      <td>2.0</td>\n",
       "      <td>3.0</td>\n",
       "      <td>...</td>\n",
       "      <td>NaN</td>\n",
       "      <td>4.0</td>\n",
       "      <td>1.0</td>\n",
       "      <td>3.0</td>\n",
       "      <td>5.0</td>\n",
       "      <td>NaN</td>\n",
       "      <td>5.0</td>\n",
       "      <td>1.0</td>\n",
       "      <td>1.0</td>\n",
       "      <td>2.0</td>\n",
       "    </tr>\n",
       "    <tr>\n",
       "      <th>4</th>\n",
       "      <td>1202</td>\n",
       "      <td>1</td>\n",
       "      <td>4.0</td>\n",
       "      <td>3.0</td>\n",
       "      <td>4.0</td>\n",
       "      <td>1.0</td>\n",
       "      <td>4.0</td>\n",
       "      <td>1.0</td>\n",
       "      <td>NaN</td>\n",
       "      <td>4.0</td>\n",
       "      <td>...</td>\n",
       "      <td>5.0</td>\n",
       "      <td>1.0</td>\n",
       "      <td>NaN</td>\n",
       "      <td>4.0</td>\n",
       "      <td>NaN</td>\n",
       "      <td>3.0</td>\n",
       "      <td>5.0</td>\n",
       "      <td>5.0</td>\n",
       "      <td>NaN</td>\n",
       "      <td>NaN</td>\n",
       "    </tr>\n",
       "  </tbody>\n",
       "</table>\n",
       "<p>5 rows × 22 columns</p>\n",
       "</div>"
      ],
      "text/plain": [
       "   User  Gender (1 =F, 0=M)  260: Star Wars: Episode IV - A New Hope (1977)  \\\n",
       "0   755                   0                                             1.0   \n",
       "1  5277                   0                                             5.0   \n",
       "2  1577                   1                                             NaN   \n",
       "3  4388                   0                                             NaN   \n",
       "4  1202                   1                                             4.0   \n",
       "\n",
       "   1210: Star Wars: Episode VI - Return of the Jedi (1983)  \\\n",
       "0                                                5.0         \n",
       "1                                                3.0         \n",
       "2                                                NaN         \n",
       "3                                                3.0         \n",
       "4                                                3.0         \n",
       "\n",
       "   356: Forrest Gump (1994)  318: Shawshank Redemption, The (1994)  \\\n",
       "0                       2.0                                    NaN   \n",
       "1                       NaN                                    2.0   \n",
       "2                       NaN                                    5.0   \n",
       "3                       NaN                                    NaN   \n",
       "4                       4.0                                    1.0   \n",
       "\n",
       "   593: Silence of the Lambs, The (1991)  3578: Gladiator (2000)  \\\n",
       "0                                    4.0                     4.0   \n",
       "1                                    4.0                     2.0   \n",
       "2                                    2.0                     NaN   \n",
       "3                                    NaN                     1.0   \n",
       "4                                    4.0                     1.0   \n",
       "\n",
       "   1: Toy Story (1995)  2028: Saving Private Ryan (1998)       ...         \\\n",
       "0                  2.0                               2.0       ...          \n",
       "1                  1.0                               NaN       ...          \n",
       "2                  4.0                               NaN       ...          \n",
       "3                  2.0                               3.0       ...          \n",
       "4                  NaN                               4.0       ...          \n",
       "\n",
       "   2396: Shakespeare in Love (1998)  2916: Total Recall (1990)  \\\n",
       "0                               2.0                        NaN   \n",
       "1                               3.0                        2.0   \n",
       "2                               NaN                        1.0   \n",
       "3                               NaN                        4.0   \n",
       "4                               5.0                        1.0   \n",
       "\n",
       "   780: Independence Day (ID4) (1996)  541: Blade Runner (1982)  \\\n",
       "0                                 5.0                       2.0   \n",
       "1                                 2.0                       NaN   \n",
       "2                                 4.0                       4.0   \n",
       "3                                 1.0                       3.0   \n",
       "4                                 NaN                       4.0   \n",
       "\n",
       "   1265: Groundhog Day (1993)  2571: Matrix, The (1999)  \\\n",
       "0                         NaN                       4.0   \n",
       "1                         2.0                       NaN   \n",
       "2                         1.0                       1.0   \n",
       "3                         5.0                       NaN   \n",
       "4                         NaN                       3.0   \n",
       "\n",
       "   527: Schindler's List (1993)  2762: Sixth Sense, The (1999)  \\\n",
       "0                           2.0                            5.0   \n",
       "1                           5.0                            1.0   \n",
       "2                           2.0                            3.0   \n",
       "3                           5.0                            1.0   \n",
       "4                           5.0                            5.0   \n",
       "\n",
       "   1198: Raiders of the Lost Ark (1981)  34: Babe (1995)  \n",
       "0                                   NaN              NaN  \n",
       "1                                   3.0              NaN  \n",
       "2                                   1.0              3.0  \n",
       "3                                   1.0              2.0  \n",
       "4                                   NaN              NaN  \n",
       "\n",
       "[5 rows x 22 columns]"
      ]
     },
     "execution_count": 8,
     "metadata": {},
     "output_type": "execute_result"
    }
   ],
   "source": [
    "import pandas as pd\n",
    "\n",
    "df = pd.read_csv('HW1-data.csv')\n",
    "df.head()"
   ]
  },
  {
   "cell_type": "markdown",
   "metadata": {},
   "source": [
    "### getting top 3 ratings"
   ]
  },
  {
   "cell_type": "code",
   "execution_count": 9,
   "metadata": {},
   "outputs": [
    {
     "data": {
      "text/plain": [
       "[('318: Shawshank Redemption, The (1994)', 3.6),\n",
       " ('260: Star Wars: Episode IV - A New Hope (1977)', 3.2666666666666666),\n",
       " ('541: Blade Runner (1982)', 3.2222222222222223)]"
      ]
     },
     "execution_count": 9,
     "metadata": {},
     "output_type": "execute_result"
    }
   ],
   "source": [
    "avaragesDict={}\n",
    "for col in df:\n",
    "    avaragesDict[col] = df[col].mean()\n",
    "sortedList = sorted(avaragesDict.items(), key=lambda x: x[1])\n",
    "sortedList.reverse()\n",
    "sortedList=sortedList[1:-1]\n",
    "sortedList[0:3]\n",
    "#result of top rated:\n",
    "#    (318: Shawshank Redemption, The (1994)',           3.6), \n",
    "#    ('260: Star Wars: Episode IV - A New Hope (1977)', 3.2666666666666666), \n",
    "#    ('541: Blade Runner (1982)',                       3.222222222222222"
   ]
  },
  {
   "cell_type": "markdown",
   "metadata": {},
   "source": [
    "### getting top 3 most rated"
   ]
  },
  {
   "cell_type": "code",
   "execution_count": 10,
   "metadata": {},
   "outputs": [
    {
     "data": {
      "text/plain": [
       "[('1: Toy Story (1995)', 17),\n",
       " ('593: Silence of the Lambs, The (1991)', 16),\n",
       " ('260: Star Wars: Episode IV - A New Hope (1977)', 15)]"
      ]
     },
     "execution_count": 10,
     "metadata": {},
     "output_type": "execute_result"
    }
   ],
   "source": [
    "countDict={}\n",
    "for col in df:\n",
    "    countDict[col] = df[col].count()\n",
    "sortedCountList= sorted(countDict.items(), key = lambda x: x[1])\n",
    "sortedCountList.reverse()\n",
    "sortedCountList=sortedCountList[2:]\n",
    "sortedCountList[0:3]\n",
    "#results:\n",
    "#('1: Toy Story (1995)', 17)\n",
    "#('593: Silence of the Lambs, The (1991)', 16)\n",
    "#('260: Star Wars: Episode IV - A New Hope (1977)', 15)"
   ]
  },
  {
   "cell_type": "markdown",
   "metadata": {},
   "source": [
    "### getting top 3 most highly liked (more % of 4+ ratings)"
   ]
  },
  {
   "cell_type": "code",
   "execution_count": 11,
   "metadata": {},
   "outputs": [
    {
     "data": {
      "text/plain": [
       "[('260: Star Wars: Episode IV - A New Hope (1977)', 8),\n",
       " ('593: Silence of the Lambs, The (1991)', 7),\n",
       " ('318: Shawshank Redemption, The (1994)', 7)]"
      ]
     },
     "execution_count": 11,
     "metadata": {},
     "output_type": "execute_result"
    }
   ],
   "source": [
    "likedDict={}\n",
    "for col in df:\n",
    "    likedDict[col] = df[col][df[col]>3].count()\n",
    "sortedLikedList = sorted(likedDict.items(), key = lambda x: x[1])\n",
    "sortedLikedList = sortedLikedList[1:-1]\n",
    "sortedLikedList.reverse()\n",
    "sortedLikedList[0:3]"
   ]
  },
  {
   "cell_type": "markdown",
   "metadata": {
    "collapsed": true
   },
   "source": [
    "### getting top 3 movies most rated by people who also rated Toy Story (co-occurrence)"
   ]
  },
  {
   "cell_type": "markdown",
   "metadata": {},
   "source": [
    "1 gives \"percentage of people who rated this movie and also rated toy story out of all the people who rated this movie\"\n",
    "\n",
    "2 gives \"percentage of people who rated toy story and also rated this movie out of all the people who rated toy story\"\n",
    "\n",
    "3 gives \"the probability to pick a person that has rated both movies out of all the people who rated those movies\"\n",
    "\n",
    "(1) if few people watched this movie, the results could be bad because for ex \"100% of the 2 people watched toy story\"\n",
    "\n",
    "(2) good indication of movies for people that watched toy story, but if \"this\" movie is very popular, it is easier for the percentage to go up, affected by simple popularity, not the perfect result."
   ]
  },
  {
   "cell_type": "code",
   "execution_count": 16,
   "metadata": {},
   "outputs": [
    {
     "ename": "TypeError",
     "evalue": "sequence item 0: expected str instance, tuple found",
     "output_type": "error",
     "traceback": [
      "\u001b[1;31m---------------------------------------------------------------------------\u001b[0m",
      "\u001b[1;31mTypeError\u001b[0m                                 Traceback (most recent call last)",
      "\u001b[1;32m<ipython-input-16-80c36362d866>\u001b[0m in \u001b[0;36m<module>\u001b[1;34m()\u001b[0m\n\u001b[0;32m     19\u001b[0m \u001b[0msortedSimpleCorrelList3\u001b[0m\u001b[1;33m.\u001b[0m\u001b[0mreverse\u001b[0m\u001b[1;33m(\u001b[0m\u001b[1;33m)\u001b[0m\u001b[1;33m\u001b[0m\u001b[0m\n\u001b[0;32m     20\u001b[0m \u001b[1;33m\u001b[0m\u001b[0m\n\u001b[1;32m---> 21\u001b[1;33m \u001b[0mprint\u001b[0m\u001b[1;33m(\u001b[0m\u001b[1;34m\"\\n\"\u001b[0m\u001b[1;33m.\u001b[0m\u001b[0mjoin\u001b[0m\u001b[1;33m(\u001b[0m\u001b[0msortedSimpleCorrelList1\u001b[0m\u001b[1;33m[\u001b[0m\u001b[1;36m0\u001b[0m\u001b[1;33m:\u001b[0m\u001b[1;36m3\u001b[0m\u001b[1;33m]\u001b[0m\u001b[1;33m)\u001b[0m\u001b[1;33m)\u001b[0m\u001b[1;33m\u001b[0m\u001b[0m\n\u001b[0m\u001b[0;32m     22\u001b[0m \u001b[0mprint\u001b[0m\u001b[1;33m(\u001b[0m\u001b[0msortedSimpleCorrelList2\u001b[0m\u001b[1;33m[\u001b[0m\u001b[1;36m0\u001b[0m\u001b[1;33m:\u001b[0m\u001b[1;36m3\u001b[0m\u001b[1;33m]\u001b[0m\u001b[1;33m)\u001b[0m\u001b[1;33m\u001b[0m\u001b[0m\n\u001b[0;32m     23\u001b[0m \u001b[0mprint\u001b[0m\u001b[1;33m(\u001b[0m\u001b[0msortedSimpleCorrelList3\u001b[0m\u001b[1;33m[\u001b[0m\u001b[1;36m0\u001b[0m\u001b[1;33m:\u001b[0m\u001b[1;36m3\u001b[0m\u001b[1;33m]\u001b[0m\u001b[1;33m)\u001b[0m\u001b[1;33m\u001b[0m\u001b[0m\n",
      "\u001b[1;31mTypeError\u001b[0m: sequence item 0: expected str instance, tuple found"
     ]
    }
   ],
   "source": [
    "coOcurrenceDict1={}\n",
    "coOcurrenceDict2={}\n",
    "matematicallyCorrectCoOcurrenceDict={}\n",
    "for col in df:\n",
    "    coOcurrenceDict1[col] = df[col][pd.notnull(df['1: Toy Story (1995)'])].count()/df[col].count()\n",
    "    coOcurrenceDict2[col] = df[col][pd.notnull(df['1: Toy Story (1995)'])].count()/df['1: Toy Story (1995)'].count()\n",
    "    matematicallyCorrectCoOcurrenceDict[col] = df[col][pd.notnull(df['1: Toy Story (1995)'])].count()/(df['1: Toy Story (1995)'].count() + df[col][~pd.notnull(df['1: Toy Story (1995)'])].count())\n",
    "    \n",
    "sortedSimpleCorrelList1 = sorted(coOcurrenceDict1.items(), key= lambda x: x[1])\n",
    "sortedSimpleCorrelList1 = sortedSimpleCorrelList1[0:-3]\n",
    "sortedSimpleCorrelList1.reverse()\n",
    "\n",
    "sortedSimpleCorrelList2 = sorted(coOcurrenceDict2.items(), key= lambda x: x[1])\n",
    "sortedSimpleCorrelList2 = sortedSimpleCorrelList2[0:-3]\n",
    "sortedSimpleCorrelList2.reverse()\n",
    "\n",
    "sortedSimpleCorrelList3 = sorted(matematicallyCorrectCoOcurrenceDict.items(), key= lambda x: x[1])\n",
    "sortedSimpleCorrelList3 = sortedSimpleCorrelList3[0:-3]\n",
    "sortedSimpleCorrelList3.reverse()\n",
    "\n",
    "print(sortedSimpleCorrelList1[0:3], sep='\\n')\n",
    "print(sortedSimpleCorrelList2[0:3])\n",
    "print(sortedSimpleCorrelList3[0:3])"
   ]
  },
  {
   "cell_type": "markdown",
   "metadata": {
    "collapsed": true
   },
   "source": [
    "## getting top 3  movies most correlated to toy story"
   ]
  },
  {
   "cell_type": "markdown",
   "metadata": {},
   "source": [
    "\"Correlation measures the linear relationship between pairs of random variables.\"\n",
    "\n",
    "Given a scatter plot of event1 x event2, if we can now draw a line passing through all the points such that the error between \n",
    "the points and the line is minimal, we say that the events are (linearly) correlated. A popular way of computing \n",
    "this line is to use the **Pearson coefficient.**"
   ]
  },
  {
   "cell_type": "code",
   "execution_count": 13,
   "metadata": {},
   "outputs": [
    {
     "data": {
      "text/plain": [
       "[('318: Shawshank Redemption, The (1994)', 0.8885233166386385),\n",
       " ('34: Babe (1995)', 0.8111071056538127),\n",
       " ('296: Pulp Fiction (1994)', 0.7098422141520241)]"
      ]
     },
     "execution_count": 13,
     "metadata": {},
     "output_type": "execute_result"
    }
   ],
   "source": [
    "from scipy.stats.stats import pearsonr\n",
    "df2 = df.iloc[: , 2:]\n",
    "correlDict = {}\n",
    "for col in df2:\n",
    "    correlDict[col] = pearsonr(df2[col][pd.notnull(df['1: Toy Story (1995)']) & pd.notnull(df[col])], df2['1: Toy Story (1995)'][pd.notnull(df['1: Toy Story (1995)']) & pd.notnull(df[col])])[0]\n",
    "sortedCorrelList = sorted(correlDict.items(), key = lambda x : x[1])\n",
    "negCorrel = sortedCorrelList[0:3]\n",
    "sortedCorrelList.reverse()\n",
    "sortedCorrelList[1:4]"
   ]
  },
  {
   "cell_type": "code",
   "execution_count": 14,
   "metadata": {},
   "outputs": [
    {
     "data": {
      "text/plain": [
       "[('2571: Matrix, The (1999)', -0.7219948723811553),\n",
       " ('1259: Stand by Me (1986)', -0.6103001034050513),\n",
       " ('593: Silence of the Lambs, The (1991)', -0.568257570707744)]"
      ]
     },
     "execution_count": 14,
     "metadata": {},
     "output_type": "execute_result"
    }
   ],
   "source": [
    "# out of curiosity\n",
    "negCorrel"
   ]
  },
  {
   "cell_type": "markdown",
   "metadata": {},
   "source": [
    "We could also calculate the correlation between the ratings of each movie and toy story, in regard to \"rated or not\" by substituting vote values by 1's, and nan's by 0's to measure the linear relationship between a person rating each movie x toy story."
   ]
  },
  {
   "cell_type": "markdown",
   "metadata": {},
   "source": [
    "## difference in rating:  by gender"
   ]
  },
  {
   "cell_type": "code",
   "execution_count": 15,
   "metadata": {},
   "outputs": [
    {
     "name": "stdout",
     "output_type": "stream",
     "text": [
      "The female avarage is 2.9473684210526314 and the male avarage is 2.905511811023622\n",
      "men love women hate: ('1198: Raiders of the Lost Ark (1981)', 1.6666666666666665)\n",
      "women love men hate: ('2396: Shakespeare in Love (1998)', 2.107142857142857)\n"
     ]
    }
   ],
   "source": [
    "dfMale = df.iloc[: , 2:][df.iloc[: , 1] == 0]\n",
    "dfFemale = df.iloc[: , 2:][df.iloc[: , 1] == 1]\n",
    "meanMaleDict={}\n",
    "meanFemaleDict={}\n",
    "summationMale = 0\n",
    "countMale = 0\n",
    "summationFemale = 0\n",
    "countFemale = 0\n",
    "for col in dfMale:\n",
    "    meanMaleDict[col] = dfMale[col].mean()\n",
    "    meanFemaleDict[col] = dfFemale[col].mean()\n",
    "    countMale = countMale + dfMale[col].count()\n",
    "    summationMale = summationMale + dfMale[col].sum()\n",
    "    countFemale = countFemale + dfFemale[col].count()\n",
    "    summationFemale = summationFemale + dfFemale[col].sum()\n",
    "maleList = list(meanMaleDict.items())\n",
    "femaleList = list(meanFemaleDict.items())\n",
    "sortedDifMaleLike = []\n",
    "sortedDifFemaleLike = []\n",
    "for maleAvgTuple, femaleAvgTuple in zip(maleList, femaleList):\n",
    "    sortedDifMaleLike.append((maleAvgTuple[0],maleAvgTuple[1]-femaleAvgTuple[1]))\n",
    "    sortedDifFemaleLike.append((maleAvgTuple[0],femaleAvgTuple[1]-maleAvgTuple[1]))\n",
    "sortedDifMaleLike = sorted(sortedDifMaleLike, key = lambda x: x[1])\n",
    "sortedDifFemaleLike = sorted(sortedDifFemaleLike, key = lambda x: x[1])\n",
    "sortedDifMaleLike.reverse()\n",
    "sortedDifFemaleLike.reverse()\n",
    "\n",
    "maleAvg = summationMale/countMale\n",
    "femaleAvg = summationFemale/countFemale\n",
    "print(\"The female avarage is\", femaleAvg, \"and the male avarage is\", maleAvg)\n",
    "print(\"men love women hate:\", sortedDifMaleLike[0])\n",
    "print(\"women love men hate:\", sortedDifFemaleLike[0])"
   ]
  },
  {
   "cell_type": "code",
   "execution_count": null,
   "metadata": {},
   "outputs": [],
   "source": []
  }
 ],
 "metadata": {
  "kernelspec": {
   "display_name": "Python 3",
   "language": "python",
   "name": "python3"
  },
  "language_info": {
   "codemirror_mode": {
    "name": "ipython",
    "version": 3
   },
   "file_extension": ".py",
   "mimetype": "text/x-python",
   "name": "python",
   "nbconvert_exporter": "python",
   "pygments_lexer": "ipython3",
   "version": "3.6.5"
  }
 },
 "nbformat": 4,
 "nbformat_minor": 2
}
