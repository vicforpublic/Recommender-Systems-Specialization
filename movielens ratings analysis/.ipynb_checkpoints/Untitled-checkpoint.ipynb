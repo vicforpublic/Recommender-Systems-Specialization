{
 "cells": [
  {
   "cell_type": "code",
   "execution_count": 19,
   "metadata": {
    "collapsed": false
   },
   "outputs": [
    {
     "data": {
      "text/html": [
       "<div>\n",
       "<style>\n",
       "    .dataframe thead tr:only-child th {\n",
       "        text-align: right;\n",
       "    }\n",
       "\n",
       "    .dataframe thead th {\n",
       "        text-align: left;\n",
       "    }\n",
       "\n",
       "    .dataframe tbody tr th {\n",
       "        vertical-align: top;\n",
       "    }\n",
       "</style>\n",
       "<table border=\"1\" class=\"dataframe\">\n",
       "  <thead>\n",
       "    <tr style=\"text-align: right;\">\n",
       "      <th></th>\n",
       "      <th>User</th>\n",
       "      <th>Gender (1 =F, 0=M)</th>\n",
       "      <th>260: Star Wars: Episode IV - A New Hope (1977)</th>\n",
       "      <th>1210: Star Wars: Episode VI - Return of the Jedi (1983)</th>\n",
       "      <th>356: Forrest Gump (1994)</th>\n",
       "      <th>318: Shawshank Redemption, The (1994)</th>\n",
       "      <th>593: Silence of the Lambs, The (1991)</th>\n",
       "      <th>3578: Gladiator (2000)</th>\n",
       "      <th>1: Toy Story (1995)</th>\n",
       "      <th>2028: Saving Private Ryan (1998)</th>\n",
       "      <th>...</th>\n",
       "      <th>2396: Shakespeare in Love (1998)</th>\n",
       "      <th>2916: Total Recall (1990)</th>\n",
       "      <th>780: Independence Day (ID4) (1996)</th>\n",
       "      <th>541: Blade Runner (1982)</th>\n",
       "      <th>1265: Groundhog Day (1993)</th>\n",
       "      <th>2571: Matrix, The (1999)</th>\n",
       "      <th>527: Schindler's List (1993)</th>\n",
       "      <th>2762: Sixth Sense, The (1999)</th>\n",
       "      <th>1198: Raiders of the Lost Ark (1981)</th>\n",
       "      <th>34: Babe (1995)</th>\n",
       "    </tr>\n",
       "  </thead>\n",
       "  <tbody>\n",
       "    <tr>\n",
       "      <th>0</th>\n",
       "      <td>755</td>\n",
       "      <td>0</td>\n",
       "      <td>1.0</td>\n",
       "      <td>5.0</td>\n",
       "      <td>2.0</td>\n",
       "      <td>NaN</td>\n",
       "      <td>4.0</td>\n",
       "      <td>4.0</td>\n",
       "      <td>2.0</td>\n",
       "      <td>2.0</td>\n",
       "      <td>...</td>\n",
       "      <td>2.0</td>\n",
       "      <td>NaN</td>\n",
       "      <td>5.0</td>\n",
       "      <td>2.0</td>\n",
       "      <td>NaN</td>\n",
       "      <td>4.0</td>\n",
       "      <td>2.0</td>\n",
       "      <td>5.0</td>\n",
       "      <td>NaN</td>\n",
       "      <td>NaN</td>\n",
       "    </tr>\n",
       "    <tr>\n",
       "      <th>1</th>\n",
       "      <td>5277</td>\n",
       "      <td>0</td>\n",
       "      <td>5.0</td>\n",
       "      <td>3.0</td>\n",
       "      <td>NaN</td>\n",
       "      <td>2.0</td>\n",
       "      <td>4.0</td>\n",
       "      <td>2.0</td>\n",
       "      <td>1.0</td>\n",
       "      <td>NaN</td>\n",
       "      <td>...</td>\n",
       "      <td>3.0</td>\n",
       "      <td>2.0</td>\n",
       "      <td>2.0</td>\n",
       "      <td>NaN</td>\n",
       "      <td>2.0</td>\n",
       "      <td>NaN</td>\n",
       "      <td>5.0</td>\n",
       "      <td>1.0</td>\n",
       "      <td>3.0</td>\n",
       "      <td>NaN</td>\n",
       "    </tr>\n",
       "    <tr>\n",
       "      <th>2</th>\n",
       "      <td>1577</td>\n",
       "      <td>1</td>\n",
       "      <td>NaN</td>\n",
       "      <td>NaN</td>\n",
       "      <td>NaN</td>\n",
       "      <td>5.0</td>\n",
       "      <td>2.0</td>\n",
       "      <td>NaN</td>\n",
       "      <td>4.0</td>\n",
       "      <td>NaN</td>\n",
       "      <td>...</td>\n",
       "      <td>NaN</td>\n",
       "      <td>1.0</td>\n",
       "      <td>4.0</td>\n",
       "      <td>4.0</td>\n",
       "      <td>1.0</td>\n",
       "      <td>1.0</td>\n",
       "      <td>2.0</td>\n",
       "      <td>3.0</td>\n",
       "      <td>1.0</td>\n",
       "      <td>3.0</td>\n",
       "    </tr>\n",
       "    <tr>\n",
       "      <th>3</th>\n",
       "      <td>4388</td>\n",
       "      <td>0</td>\n",
       "      <td>NaN</td>\n",
       "      <td>3.0</td>\n",
       "      <td>NaN</td>\n",
       "      <td>NaN</td>\n",
       "      <td>NaN</td>\n",
       "      <td>1.0</td>\n",
       "      <td>2.0</td>\n",
       "      <td>3.0</td>\n",
       "      <td>...</td>\n",
       "      <td>NaN</td>\n",
       "      <td>4.0</td>\n",
       "      <td>1.0</td>\n",
       "      <td>3.0</td>\n",
       "      <td>5.0</td>\n",
       "      <td>NaN</td>\n",
       "      <td>5.0</td>\n",
       "      <td>1.0</td>\n",
       "      <td>1.0</td>\n",
       "      <td>2.0</td>\n",
       "    </tr>\n",
       "    <tr>\n",
       "      <th>4</th>\n",
       "      <td>1202</td>\n",
       "      <td>1</td>\n",
       "      <td>4.0</td>\n",
       "      <td>3.0</td>\n",
       "      <td>4.0</td>\n",
       "      <td>1.0</td>\n",
       "      <td>4.0</td>\n",
       "      <td>1.0</td>\n",
       "      <td>NaN</td>\n",
       "      <td>4.0</td>\n",
       "      <td>...</td>\n",
       "      <td>5.0</td>\n",
       "      <td>1.0</td>\n",
       "      <td>NaN</td>\n",
       "      <td>4.0</td>\n",
       "      <td>NaN</td>\n",
       "      <td>3.0</td>\n",
       "      <td>5.0</td>\n",
       "      <td>5.0</td>\n",
       "      <td>NaN</td>\n",
       "      <td>NaN</td>\n",
       "    </tr>\n",
       "  </tbody>\n",
       "</table>\n",
       "<p>5 rows × 22 columns</p>\n",
       "</div>"
      ],
      "text/plain": [
       "   User  Gender (1 =F, 0=M)  260: Star Wars: Episode IV - A New Hope (1977)  \\\n",
       "0   755                   0                                             1.0   \n",
       "1  5277                   0                                             5.0   \n",
       "2  1577                   1                                             NaN   \n",
       "3  4388                   0                                             NaN   \n",
       "4  1202                   1                                             4.0   \n",
       "\n",
       "   1210: Star Wars: Episode VI - Return of the Jedi (1983)  \\\n",
       "0                                                5.0         \n",
       "1                                                3.0         \n",
       "2                                                NaN         \n",
       "3                                                3.0         \n",
       "4                                                3.0         \n",
       "\n",
       "   356: Forrest Gump (1994)  318: Shawshank Redemption, The (1994)  \\\n",
       "0                       2.0                                    NaN   \n",
       "1                       NaN                                    2.0   \n",
       "2                       NaN                                    5.0   \n",
       "3                       NaN                                    NaN   \n",
       "4                       4.0                                    1.0   \n",
       "\n",
       "   593: Silence of the Lambs, The (1991)  3578: Gladiator (2000)  \\\n",
       "0                                    4.0                     4.0   \n",
       "1                                    4.0                     2.0   \n",
       "2                                    2.0                     NaN   \n",
       "3                                    NaN                     1.0   \n",
       "4                                    4.0                     1.0   \n",
       "\n",
       "   1: Toy Story (1995)  2028: Saving Private Ryan (1998)       ...         \\\n",
       "0                  2.0                               2.0       ...          \n",
       "1                  1.0                               NaN       ...          \n",
       "2                  4.0                               NaN       ...          \n",
       "3                  2.0                               3.0       ...          \n",
       "4                  NaN                               4.0       ...          \n",
       "\n",
       "   2396: Shakespeare in Love (1998)  2916: Total Recall (1990)  \\\n",
       "0                               2.0                        NaN   \n",
       "1                               3.0                        2.0   \n",
       "2                               NaN                        1.0   \n",
       "3                               NaN                        4.0   \n",
       "4                               5.0                        1.0   \n",
       "\n",
       "   780: Independence Day (ID4) (1996)  541: Blade Runner (1982)  \\\n",
       "0                                 5.0                       2.0   \n",
       "1                                 2.0                       NaN   \n",
       "2                                 4.0                       4.0   \n",
       "3                                 1.0                       3.0   \n",
       "4                                 NaN                       4.0   \n",
       "\n",
       "   1265: Groundhog Day (1993)  2571: Matrix, The (1999)  \\\n",
       "0                         NaN                       4.0   \n",
       "1                         2.0                       NaN   \n",
       "2                         1.0                       1.0   \n",
       "3                         5.0                       NaN   \n",
       "4                         NaN                       3.0   \n",
       "\n",
       "   527: Schindler's List (1993)  2762: Sixth Sense, The (1999)  \\\n",
       "0                           2.0                            5.0   \n",
       "1                           5.0                            1.0   \n",
       "2                           2.0                            3.0   \n",
       "3                           5.0                            1.0   \n",
       "4                           5.0                            5.0   \n",
       "\n",
       "   1198: Raiders of the Lost Ark (1981)  34: Babe (1995)  \n",
       "0                                   NaN              NaN  \n",
       "1                                   3.0              NaN  \n",
       "2                                   1.0              3.0  \n",
       "3                                   1.0              2.0  \n",
       "4                                   NaN              NaN  \n",
       "\n",
       "[5 rows x 22 columns]"
      ]
     },
     "execution_count": 19,
     "metadata": {},
     "output_type": "execute_result"
    }
   ],
   "source": [
    "import pandas as pd\n",
    "\n",
    "df = pd.read_csv('HW1-data.csv')\n",
    "df.head()"
   ]
  },
  {
   "cell_type": "markdown",
   "metadata": {},
   "source": [
    "### getting top 3 ratings"
   ]
  },
  {
   "cell_type": "code",
   "execution_count": 13,
   "metadata": {
    "collapsed": false
   },
   "outputs": [
    {
     "data": {
      "text/plain": [
       "[('318: Shawshank Redemption, The (1994)', 3.6),\n",
       " ('260: Star Wars: Episode IV - A New Hope (1977)', 3.2666666666666666),\n",
       " ('541: Blade Runner (1982)', 3.2222222222222223)]"
      ]
     },
     "execution_count": 13,
     "metadata": {},
     "output_type": "execute_result"
    }
   ],
   "source": [
    "\n",
    "avaragesDict={}\n",
    "for col in df:\n",
    "    avaragesDict[col] = df[col].mean()\n",
    "sortedList = sorted(avaragesDict.items(), key=lambda x: x[1])\n",
    "sortedList.reverse()\n",
    "sortedList=sortedList[1:-1]\n",
    "sortedList[0:3]\n",
    "#result of top rated:\n",
    "#    (318: Shawshank Redemption, The (1994)',           3.6), \n",
    "#    ('260: Star Wars: Episode IV - A New Hope (1977)', 3.2666666666666666), \n",
    "#    ('541: Blade Runner (1982)',                       3.222222222222222"
   ]
  },
  {
   "cell_type": "markdown",
   "metadata": {},
   "source": [
    "### getting top 3 most rated"
   ]
  },
  {
   "cell_type": "code",
   "execution_count": 10,
   "metadata": {
    "collapsed": false
   },
   "outputs": [
    {
     "data": {
      "text/plain": [
       "[('1: Toy Story (1995)', 17),\n",
       " ('593: Silence of the Lambs, The (1991)', 16),\n",
       " ('260: Star Wars: Episode IV - A New Hope (1977)', 15)]"
      ]
     },
     "execution_count": 10,
     "metadata": {},
     "output_type": "execute_result"
    }
   ],
   "source": [
    "countDict={}\n",
    "for col in df:\n",
    "    countDict[col] = df[col].count()\n",
    "sortedCountList= sorted(countDict.items(), key = lambda x: x[1])\n",
    "sortedCountList.reverse()\n",
    "sortedCountList=sortedCountList[2:]\n",
    "sortedCountList[0:3]\n",
    "#results:\n",
    "#('1: Toy Story (1995)', 17)\n",
    "#('593: Silence of the Lambs, The (1991)', 16)\n",
    "#('260: Star Wars: Episode IV - A New Hope (1977)', 15)"
   ]
  },
  {
   "cell_type": "markdown",
   "metadata": {},
   "source": [
    "### getting top 3 most highly liked (more % of 4+ ratings)"
   ]
  },
  {
   "cell_type": "code",
   "execution_count": 14,
   "metadata": {
    "collapsed": false
   },
   "outputs": [
    {
     "data": {
      "text/plain": [
       "[('260: Star Wars: Episode IV - A New Hope (1977)', 8),\n",
       " ('593: Silence of the Lambs, The (1991)', 7),\n",
       " ('318: Shawshank Redemption, The (1994)', 7)]"
      ]
     },
     "execution_count": 14,
     "metadata": {},
     "output_type": "execute_result"
    }
   ],
   "source": [
    "likedDict={}\n",
    "for col in df:\n",
    "    likedDict[col] = df[col][df[col]>3].count()\n",
    "sortedLikedList = sorted(likedDict.items(), key = lambda x: x[1])\n",
    "sortedLikedList = sortedLikedList[1:-1]\n",
    "sortedLikedList.reverse()\n",
    "sortedLikedList[0:3]"
   ]
  },
  {
   "cell_type": "markdown",
   "metadata": {},
   "source": [
    "### getting top 3 movies most rated by people who also rated star wars"
   ]
  },
  {
   "cell_type": "code",
   "execution_count": 17,
   "metadata": {
    "collapsed": false
   },
   "outputs": [
    {
     "data": {
      "text/plain": [
       "[('260: Star Wars: Episode IV - A New Hope (1977)', 14),\n",
       " ('780: Independence Day (ID4) (1996)', 13),\n",
       " ('593: Silence of the Lambs, The (1991)', 13)]"
      ]
     },
     "execution_count": 17,
     "metadata": {},
     "output_type": "execute_result"
    }
   ],
   "source": [
    "coOcurrenceDict={}\n",
    "for col in df:\n",
    "    coOcurrenceDict[col] = df[col][pd.notnull(df['1: Toy Story (1995)'])].count()\n",
    "sortedSimpleCorrelList = sorted(coOcurrenceDict.items(), key= lambda x: x[1])\n",
    "sortedSimpleCorrelList = sortedSimpleCorrelList[0:-3]\n",
    "sortedSimpleCorrelList.reverse()\n",
    "sortedSimpleCorrelList[0:3]"
   ]
  },
  {
   "cell_type": "code",
   "execution_count": null,
   "metadata": {
    "collapsed": true
   },
   "outputs": [],
   "source": []
  }
 ],
 "metadata": {
  "kernelspec": {
   "display_name": "Python 3",
   "language": "python",
   "name": "python3"
  },
  "language_info": {
   "codemirror_mode": {
    "name": "ipython",
    "version": 3
   },
   "file_extension": ".py",
   "mimetype": "text/x-python",
   "name": "python",
   "nbconvert_exporter": "python",
   "pygments_lexer": "ipython3",
   "version": "3.6.0"
  }
 },
 "nbformat": 4,
 "nbformat_minor": 2
}
